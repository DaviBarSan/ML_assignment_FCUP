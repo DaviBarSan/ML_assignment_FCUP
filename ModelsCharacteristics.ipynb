{
 "cells": [
  {
   "cell_type": "markdown",
   "metadata": {},
   "source": [
    "# General Characteristics of the Modesl:"
   ]
  },
  {
   "cell_type": "markdown",
   "metadata": {},
   "source": [
    "### Decision Trees (no prunning):\n",
    "- Categorical features\n",
    "- Multiclass problem?\n",
    "\n",
    "### Decision Trees (max depth = 2):\n",
    "- high noise? \n",
    "\n",
    "\n",
    "### SVM (radial):\n",
    "- Radial separation (non linear SVM  rbf)\n",
    "\n",
    "### SVM (linear):\n",
    "- Linear separation with ~\n",
    "- lower overlap between the classes\n",
    "- more noise\n",
    "\n",
    "### QDA \n",
    "- Shape of the border = quadratic\n",
    "\n",
    "### LDA\n",
    "- Data normally distributed\n",
    "\n",
    "### LogReg\n",
    "- Flexible, but still linear\n",
    "\n",
    "\n",
    "\n",
    "### lib for study bias, variance and composition:\n",
    "mlxtend\n",
    "\n"
   ]
  }
 ],
 "metadata": {
  "language_info": {
   "name": "python"
  }
 },
 "nbformat": 4,
 "nbformat_minor": 2
}
